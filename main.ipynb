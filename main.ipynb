{
  "cells": [
    {
      "cell_type": "markdown",
      "metadata": {
        "id": "5g2u5ov8YYo-"
      },
      "source": [
        "## Quantum Curcuit for SPEEDY\n",
        "> For SPEEDY-7-192"
      ]
    },
    {
      "cell_type": "code",
      "execution_count": null,
      "metadata": {
        "colab": {
          "base_uri": "https://localhost:8080/"
        },
        "id": "m6CEOvZpZ_-y",
        "outputId": "966efa54-5dba-474f-dc90-0d917926cadf"
      },
      "outputs": [],
      "source": [
        "# @title Installing Libraries\n",
        "!pip install qiskit\n",
        "!pip install qiskit-aer"
      ]
    },
    {
      "cell_type": "code",
      "execution_count": 6,
      "metadata": {
        "id": "mbt_MX96VcMe"
      },
      "outputs": [],
      "source": [
        "# Import necessary libraries from Qiskit\n",
        "from qiskit import QuantumCircuit, QuantumRegister, ClassicalRegister\n",
        "from qiskit.visualization import plot_histogram\n",
        "import numpy as np\n",
        "\n",
        "# Import the necessary functions for visualizing quantum states\n",
        "from qiskit.visualization import plot_bloch_multivector\n",
        "\n",
        "# Import the Statevector class from Qiskit's quantum information module\n",
        "from qiskit.quantum_info import Statevector"
      ]
    },
    {
      "cell_type": "code",
      "execution_count": 7,
      "metadata": {
        "id": "NrB3ILitaE_X"
      },
      "outputs": [],
      "source": [
        "# Defining global variables\n",
        "keybits = 192 # not used exclusively\n",
        "ptbits = 192 # plaintext bits, not used exclusively\n",
        "num_rounds = 7\n",
        "k = [0]*num_rounds \n",
        "k[0] = 0x123456789ABCDEF0123456789ABCDEF0123456789ABCDEF0123456789ABCDEF\n",
        "beta = 0x13\n",
        "gamma = 0x257"
      ]
    },
    {
      "cell_type": "markdown",
      "metadata": {},
      "source": [
        "## Defining necessary functions for SPEEDY block cipher"
      ]
    },
    {
      "cell_type": "markdown",
      "metadata": {},
      "source": [
        "### Defining S-Box circuit\n",
        "S-BOX(SB)\n",
        "> At the input ancilla, qubit y should initially be set to zero, and at the end of the circuit, it stores the 6-bit result of the S-box"
      ]
    },
    {
      "cell_type": "code",
      "execution_count": null,
      "metadata": {
        "cellView": "form",
        "id": "r5jXof5ubMnQ"
      },
      "outputs": [],
      "source": [
        "# @title `S-Box`\n",
        "def SB(circ, start_bit):\n",
        "  # circ == actual circuit with gates\n",
        "  # creating ancilla qubits y, at the end of the circuit, it stores the 6-bit result of the S-box.\n",
        "  y = QuantumCircuit(192)  # 6*32 = 192\n",
        "  qubit_indices = [i for i in range(384, 576)]\n",
        "  circ.compose(y, qubit_indices)\n",
        "\n",
        "  for i in range(start_bit, 192+start_bit, 6):\n",
        "    circ.cx(i+3, i+384)\n",
        "    circ.ccx(i+5, i+3, i+384)\n",
        "    circ.mcx([i+5, i+4, i+3, i+2], i+384)\n",
        "    circ.mcx([i+5, i+4, i+1], i+384)\n",
        "    circ.mcx([i+5, i+4, i+3, i+2, i+1], i+384)\n",
        "    circ.ccx(i+1, i+0, i+384)\n",
        "    circ.mcx([i+5, i+4, i+1, i+0], i+384)\n",
        "    circ.mcx([i+3, i+1, i+0], i+384)\n",
        "    circ.mcx([i+5, i+4, i+3, i+1, i+0], i+384)\n",
        "    circ.barrier()\n",
        "\n",
        "    # `Gates on i+385`\n",
        "    circ.cx(i+3, i+385)\n",
        "    circ.ccx(i+4, i+3, i+385)\n",
        "    circ.mcx([i+5, i+4, i+3], i+385)\n",
        "    circ.mcx([i+5, i+3, i+2], i+385)\n",
        "    circ.cx(i+1, i+385)\n",
        "    circ.ccx(i+3, i+1, i+385)\n",
        "    circ.mcx([i+5, i+2, i+0], i+385)\n",
        "    circ.ccx(i+1, i+0, i+385)\n",
        "    circ.mcx([i+3, i+1, i+0], i+385)\n",
        "    circ.barrier()\n",
        "\n",
        "    # `Gates on i+386`\n",
        "    circ.cx(i+5, i+386)\n",
        "    circ.ccx(i+5, i+2, i+386)\n",
        "    circ.ccx(i+4, i+2, i+386)\n",
        "    circ.ccx(i+3, i+2, i+386)\n",
        "    circ.mcx([i+4, i+3, i+2], i+386)\n",
        "    circ.cx(i+0, i+386)\n",
        "    circ.ccx(i+5, i+0, i+386)\n",
        "    circ.ccx(i+4, i+0, i+386)\n",
        "    circ.mcx([i+4, i+3, i+0], i+386)\n",
        "    circ.ccx(i+2, i+0, i+386)\n",
        "    circ.mcx([i+5, i+2, i+0], i+386)\n",
        "    circ.mcx([i+3, i+1, i+0], i+386)\n",
        "    circ.barrier()\n",
        "\n",
        "    # `Gates on i+387`\n",
        "    circ.cx(i+2, i+387)\n",
        "    circ.ccx(i+3, i+2, i+387)\n",
        "    circ.ccx(i+3, i+1, i+387)\n",
        "    circ.ccx(i+5, i+0, i+387)\n",
        "    circ.ccx(i+2, i+0, i+387)\n",
        "    circ.mcx([i+5, i+2, i+0], i+387)\n",
        "    circ.mcx([i+4, i+2, i+0], i+387)\n",
        "    circ.mcx([i+3, i+2, i+0], i+387)\n",
        "    circ.mcx([i+3, i+1, i+0], i+387)\n",
        "    circ.barrier()\n",
        "\n",
        "    # `Gates on i+388`\n",
        "    circ.ccx(i+5, i+4, i+388)\n",
        "    circ.cx(i+1, i+388)\n",
        "    circ.ccx(i+4, i+1, i+388)\n",
        "    circ.ccx(i+2, i+1, i+388)\n",
        "    circ.mcx([i+4, i+2, i+1], i+388)\n",
        "    circ.cx(i+0, i+388)\n",
        "    circ.mcx([i+5, i+4, i+0], i+388)\n",
        "    circ.mcx([i+4, i+3, i+0], i+388)\n",
        "    circ.mcx([i+3, i+2, i+0], i+388)\n",
        "    circ.mcx([i+4, i+3, i+2, i+0], i+388)\n",
        "    circ.ccx(i+1, i+0, i+388)\n",
        "    circ.mcx([i+4, i+1, i+0], i+388)\n",
        "    circ.mcx([i+2, i+1, i+0], i+388)\n",
        "    circ.mcx([i+4, i+2, i+1, i+0], i+388)\n",
        "    circ.barrier()\n",
        "\n",
        "    #`Gates on i+389`\n",
        "    circ.cx(i+4, i+5)\n",
        "    circ.ccx(i+5, i+2, i+389)\n",
        "    circ.ccx(i+4, i+2, i+389)\n",
        "    circ.ccx(i+4, i+1, i+389)\n",
        "    circ.mcx([i+4, i+2, i+1], i+389)\n",
        "    circ.ccx(i+3, i+0, i+389)\n",
        "    circ.mcx([i+4, i+3, i+0], i+389)\n",
        "    circ.mcx([i+5, i+3, i+2, i+0], i+389)\n",
        "    circ.mcx([i+4, i+3, i+2, i+0], i+389)\n",
        "    circ.mcx([i+3, i+1, i+0], i+389)\n",
        "    circ.mcx([i+4, i+3, i+1, i+0], i+389)\n",
        "    circ.mcx([i+2, i+1, i+0], i+389)\n",
        "    circ.mcx([i+5, i+2, i+1, i+0], i+389)\n",
        "    circ.mcx([i+5, i+3, i+2, i+1, i+0], i+389)\n",
        "    circ.mcx([i+4, i+3, i+2, i+1, i+0], i+389)\n",
        "    circ.barrier()"
      ]
    },
    {
      "cell_type": "markdown",
      "metadata": {
        "id": "0aI55pin09by"
      },
      "source": [
        "### ShiftColumns (SC)\n",
        "> Input x is the result of ShiftColumn and is the target of the S-box operation.\n",
        "\n",
        "It changes the index of the input as arranged in new_array"
      ]
    },
    {
      "cell_type": "code",
      "execution_count": 9,
      "metadata": {
        "id": "5H49JqCDxuFd"
      },
      "outputs": [],
      "source": [
        "# fucntion to copy state of a qubit, used to shift column values\n",
        "def teleport1(circ, q0, q1, q2, c0, c1): # q1 == 960 --> teleport bit\n",
        "  circ.h(q1)\n",
        "  circ.cx(q1,q2)\n",
        "  circ.cx(q0, q1)\n",
        "  circ.h(q0)\n",
        "  circ.measure([q0, q1], [c0, c1])\n",
        "  circ.cx(q1, q2)\n",
        "  circ.cz(q0, q2)\n",
        "  circ.reset(q1)\n",
        "\"\"\"\n",
        "new_array[(6*i+j+6)%192] # --> circ[(6*i+j+6)%192 + 768]\n",
        "circ[6*i+j+start_bit] # --> to copy\n",
        "q0 = circ[6*i+j+start_bit]\n",
        "q1 = circ[960] # teleport\n",
        "q2 = circ[(6*i+j+6)%192 + 768]\n",
        "\"\"\"\n",
        "# Quantum circuit of ShiftColumns\n",
        "def SC(circ, start_bit): \n",
        "  new_array = QuantumRegister(192, 'new_array')\n",
        "  new_array_circ = QuantumCircuit(192) # by default, initialized to |0>\n",
        "  qubit_indices = [i for i in range(768, 960)]\n",
        "  circ.compose(new_array_circ, qubit_indices)\n",
        "  for i in range(32):\n",
        "    for j in range(6):\n",
        "      teleport1(circ, 6*i+j+start_bit, 960, (6*i+j+6)%192 + 768, cbits[0], cbits[1])\n",
        "  # reassigning the values of new_array qubits to qubits on which SC/oracle is applied\n",
        "  for i in range(32):\n",
        "    for j in range(6):\n",
        "      teleport1(circ, 6*i+j + 768, 960, 6*i+j+start_bit, cbits[0], cbits[1])"
      ]
    },
    {
      "cell_type": "markdown",
      "metadata": {
        "id": "T1e6NJrS15YS"
      },
      "source": [
        "### MixColumns (MC)\n"
      ]
    },
    {
      "cell_type": "code",
      "execution_count": 10,
      "metadata": {
        "id": "Q16F-BVy14E2"
      },
      "outputs": [],
      "source": [
        "# Quantum circuit of MixColumns\n",
        "# two arrays of 192 size are needed so in total, 384 qubits are required for MC\n",
        "\n",
        "def MC(circ, start_bit): \n",
        "  temp = QuantumRegister(192, 'temp')\n",
        "  # these qubits after compose can be accessed with temp[i] bcz the original register name is also temp\n",
        "  # for this, 'temp' == name should also be same in both cells\n",
        "  qc_temp = QuantumCircuit(temp)\n",
        "  qubit_indices = [i for i in range(576, 768)]\n",
        "  circ.compose(qc_temp, qubit_indices)\n",
        "  a = [1, 5, 9, 15, 21, 26] # given in research paper\n",
        "  for i in range(192):\n",
        "    circ.cx(i+start_bit, i+576)  # copy target qubit(k) to temporary qubit(temp)\n",
        "\n",
        "  # The standard shift\n",
        "  for i in range(32):\n",
        "    for j in range(6):\n",
        "      circ.cx(6*(i+a[0])+j+576, 6*i+j+start_bit)\n",
        "      circ.cx(6*(i+a[1])+j+576, 6*i+j+start_bit)\n",
        "      circ.cx(6*(i+a[2])+j+576, 6*i+j+start_bit)\n",
        "      circ.cx(6*(i+a[3])+j+576, 6*i+j+start_bit)\n",
        "      circ.cx(6*(i+a[4])+j+576, 6*i+j+start_bit)\n",
        "      circ.cx(6*(i+a[5])+j+576, 6*i+j+start_bit)\n"
      ]
    },
    {
      "cell_type": "markdown",
      "metadata": {
        "id": "tJ6LdTbA1g8J"
      },
      "source": [
        "### Key Schedule (KS)\n",
        "> The kr uses the permutation P to change the bit position.\n",
        "\n",
        "kr+1[i',j' ] = kr[i,j]\n",
        "(i', j') := P(i, j) with (6 · i' + j') ≡ (β · (6 · i + j) + γ) mod 6\n",
        "\n",
        "Instead of changing the bit position, we can create a new `k` value for each round.\n",
        "\n",
        "Same value of k[r] need to be used in corresponding encryption and decryption rounds."
      ]
    },
    {
      "cell_type": "code",
      "execution_count": 11,
      "metadata": {
        "id": "dtgeuGfW1l7p"
      },
      "outputs": [],
      "source": [
        "from functools import reduce\n",
        "def xor(a, b):\n",
        "    return a ^ b\n",
        "def rotate_left(a, b):\n",
        "    return (a << b) | (a >> (192 - b))\n",
        "def permute(x, beta, gamma):\n",
        "    return rotate_left(reduce(xor, [x, beta, gamma]), 1)\n",
        "def KS(k_0, num_rounds, beta, gamma): # k_0 is known/set already, k_0 == k[0]\n",
        "    # Break 192-bit k0 into 6 32-bit values\n",
        "    k_0 = 0x123456789ABCDEF0123456789ABCDEF0123456789ABCDEF0123456789ABCDEF\n",
        "    k0_1 = k_0 & 0xFFFFFFFF\n",
        "    k0_2 = (k_0 >> 32) & 0xFFFFFFFF\n",
        "    k0_3 = (k_0 >> 64) & 0xFFFFFFFF\n",
        "    k0_4 = (k_0 >> 96) & 0xFFFFFFFF\n",
        "    k0_5 = (k_0 >> 128) & 0xFFFFFFFF\n",
        "    k0_6 = (k_0 >> 160) & 0xFFFFFFFF\n",
        "\n",
        "    k[0] = (k0_1, k0_2, k0_3, k0_4, k0_5, k0_6)\n",
        "\n",
        "    for r in range(1, num_rounds):\n",
        "        kr_1 = permute(k[r-1][0], beta, gamma)\n",
        "        kr_2 = permute(k[r-1][1], beta, gamma)\n",
        "        kr_3 = permute(k[r-1][2], beta, gamma)\n",
        "        kr_4 = permute(k[r-1][3], beta, gamma)\n",
        "        kr_5 = permute(k[r-1][4], beta, gamma)\n",
        "        kr_6 = permute(k[r-1][5], beta, gamma)\n",
        "\n",
        "        k[r] = (kr_1, kr_2, kr_3, kr_4, kr_5, kr_6)\n",
        "    return k # a list of tuples"
      ]
    },
    {
      "cell_type": "markdown",
      "metadata": {
        "id": "buCm3dER7fiF"
      },
      "source": [
        "### AddRoundKey ($A_{k_{r}}$)\n",
        "Instead of working with 2-D array, we can XOR the qubit array against linear `k`.\n",
        "> Each round start with Akr, so it would get k[r] in each round."
      ]
    },
    {
      "cell_type": "code",
      "execution_count": 12,
      "metadata": {
        "id": "FgTNk8WrzPeb"
      },
      "outputs": [],
      "source": [
        "def Akr(circ, round_num, start_bit):\n",
        "  # KS is to be called before Akr\n",
        "  k_r = KS(k[0], num_rounds, beta, gamma)[round_num]\n",
        "  k0, k1, k2, k3, k4, k5 = k_r\n",
        "  for i in range(32):\n",
        "    for j in range(6):\n",
        "      idx = 6*i + j + start_bit\n",
        "      # Check each 32-bit value\n",
        "      if (k0 >> j) & 1 == 1:\n",
        "        circ.x(idx)\n",
        "      if (k1 >> j) & 1 == 1:\n",
        "        circ.x(idx+32)\n",
        "      if (k2 >> j) & 1 == 1:\n",
        "        circ.x(idx+64)\n",
        "      if (k3 >> j) & 1 == 1:\n",
        "        circ.x(idx+96)\n",
        "      if (k4 >> j) & 1 == 1:\n",
        "        circ.x(idx+128)\n",
        "      if (k5 >> j) & 1 == 1:\n",
        "        circ.x(idx+160)"
      ]
    },
    {
      "cell_type": "markdown",
      "metadata": {
        "id": "o1DJeA2G8AwX"
      },
      "source": [
        "### AddRoundConstant ($A_{c_{r}}$)\n",
        "X gate is used as much as the Hamming weight."
      ]
    },
    {
      "cell_type": "code",
      "execution_count": 13,
      "metadata": {
        "id": "_jPOo9u98ZIZ"
      },
      "outputs": [],
      "source": [
        "def Acr(circ, start_bit):\n",
        "  # constant = binary(pi - 3) --> used in SPEEDY block cipher by researchers\n",
        "  constant = 0xb001001000011111101101010100010001000010110100011000010001101001100010011000110011000101000101110000000110111000001110011010001001010010000001001001110000010001000101001100111110011000111010000\n",
        "  for i in range(start_bit, 192+start_bit): # this will allow as to modify only first 192 (k) bits\n",
        "    if (constant & 1 == 1):\n",
        "      circ.x(i)\n",
        "      # circ[i] = circ.x(circ[i]) <-- isn't the way in qiskit\n",
        "    constant = constant >> 1"
      ]
    },
    {
      "cell_type": "markdown",
      "metadata": {
        "id": "JXLlfzcTze-K"
      },
      "source": [
        "### Round Function $R_n$"
      ]
    },
    {
      "cell_type": "markdown",
      "metadata": {},
      "source": [
        "> Enc -- encryption step"
      ]
    },
    {
      "cell_type": "code",
      "execution_count": 14,
      "metadata": {
        "id": "_PfR8wWxzdNS"
      },
      "outputs": [],
      "source": [
        "def roundFunction_enc(circ, nqubits, start_bit, num_rounds): \n",
        "  # calling the functions in sequence given in research paper\n",
        "  # k = KS(k[0], num_rounds, beta, gamma) # KS is to be called before Akr\n",
        "  for round_num in range(num_rounds-1):\n",
        "    Akr(circ, round_num, start_bit)\n",
        "    SB(circ, start_bit)  # 32 times\n",
        "    SC(circ, start_bit) # done\n",
        "    MC(circ, start_bit)\n",
        "    Acr(circ, start_bit) # done\n",
        "  Akr(circ, num_rounds-1, start_bit)\n",
        "  SB(circ, start_bit)\n",
        "  SC(circ, start_bit)\n",
        "  SB(circ, start_bit)\n",
        "  Akr(circ, num_rounds-1, start_bit)\n"
      ]
    },
    {
      "cell_type": "markdown",
      "metadata": {
        "id": "RppysKlzMpjy"
      },
      "source": [
        "> Dec -- decryption step"
      ]
    },
    {
      "cell_type": "code",
      "execution_count": 15,
      "metadata": {
        "id": "vZUY27miwkHp"
      },
      "outputs": [],
      "source": [
        "def roundFunction_dec(circ, nqubits, start_bit, num_rounds):\n",
        "    # calling the functions in reverse of the sequence given in research paper\n",
        "  # no need of KS as KS list is already generated in encryption step\n",
        "  Akr(circ, num_rounds-1, start_bit)\n",
        "  SB(circ, start_bit)  # 32 times\n",
        "  SC(circ, start_bit)\n",
        "  SB(circ, start_bit)\n",
        "  Akr(circ, num_rounds-1, start_bit)\n",
        "  for round_num in range(num_rounds-1):\n",
        "    Acr(circ, start_bit)\n",
        "    MC(circ, start_bit)\n",
        "    SC(circ, start_bit)\n",
        "    SB(circ, start_bit)\n",
        "    Akr(circ, round_num, start_bit)\n"
      ]
    },
    {
      "cell_type": "markdown",
      "metadata": {
        "id": "j4VgvCoX6fqS"
      },
      "source": [
        "## Grover's Algo"
      ]
    },
    {
      "cell_type": "markdown",
      "metadata": {
        "id": "IE5xOWAJ7gyZ"
      },
      "source": [
        "### Oracle"
      ]
    },
    {
      "cell_type": "code",
      "execution_count": 16,
      "metadata": {
        "id": "fzqSiSaEjAuq"
      },
      "outputs": [],
      "source": [
        "def oracle(circ):\n",
        "  roundFunction_enc(circ, 192, 0, 7) # encryption on keybit bits\n",
        "  roundFunction_enc(circ, 192, 192, 7) # encryption on ptbit bits\n",
        "\n",
        "  # XOR plaintext_bits with key_bits\n",
        "  for i in range(192): # 192 == len(plaintext_bits)\n",
        "      circ.cx(ptbit[i], keybit[i])\n",
        "\n",
        "  # Flip ancilla if plaintext_bits xor key_bits = 0\n",
        "  circ.h(ancilla_qubit)\n",
        "  circ.mct(list(ptbit) + list(keybit), ancilla_qubit)\n",
        "  circ.h(ancilla_qubit)\n",
        "\n",
        "  # Undo XOR\n",
        "  for i in range(192):\n",
        "      circ.cx(ptbit[i], keybit[i])\n",
        "\n",
        "  roundFunction_dec(circ, 192, 0, 7) # decryption on keybit bits\n",
        "  roundFunction_dec(circ, 192, 192, 7) # decryption on ptbit bits\n",
        "\n",
        "  # print(np.array(Statevector(circ)))\n",
        "  # Error: maximum allowed dimensions exceeded"
      ]
    },
    {
      "cell_type": "markdown",
      "metadata": {
        "id": "kY-fMaFY7sx_"
      },
      "source": [
        "### Diffusor"
      ]
    },
    {
      "cell_type": "code",
      "execution_count": 17,
      "metadata": {
        "id": "kh8D1_GQlnhn"
      },
      "outputs": [],
      "source": [
        "def diffuser(qc, nqubits):\n",
        "    for qubit in range(nqubits):\n",
        "        qc.h(qubit)\n",
        "    for qubit in range(nqubits):\n",
        "        qc.x(qubit)\n",
        "    qc.h(nqubits-1)\n",
        "    qc.mct(list(range(nqubits-1)), nqubits-1)  # multi-controlled-toffoli\n",
        "    qc.h(nqubits-1)\n",
        "    for qubit in range(nqubits):\n",
        "        qc.x(qubit)\n",
        "    for qubit in range(nqubits):\n",
        "        qc.h(qubit)\n"
      ]
    },
    {
      "cell_type": "markdown",
      "metadata": {
        "id": "sPyM3qH4pVDN"
      },
      "source": [
        "### Initializer"
      ]
    },
    {
      "cell_type": "code",
      "execution_count": 18,
      "metadata": {
        "id": "tuKljV-UnxAU"
      },
      "outputs": [],
      "source": [
        "def initialize_s(circ, nqubits):\n",
        "    for i in range(nqubits):\n",
        "        circ.h(i)\n",
        "    circ.barrier()"
      ]
    },
    {
      "cell_type": "markdown",
      "metadata": {
        "id": "4dgPpwUmpMOp"
      },
      "source": [
        "## Main"
      ]
    },
    {
      "cell_type": "code",
      "execution_count": null,
      "metadata": {
        "colab": {
          "base_uri": "https://localhost:8080/"
        },
        "id": "tkLV5r_Ip4a5",
        "outputId": "a803e9f9-d9c2-46b9-95ec-da0e08dc5fda"
      },
      "outputs": [],
      "source": [
        "# keybits = 192\n",
        "# ptbits = 192\n",
        "# num_rounds = 7\n",
        "# k = [0]*num_rounds\n",
        "# k[0] = 0x123456789ABCDEF0123456789ABCDEF0123456789ABCDEF0123456789ABCDEF\n",
        "# beta = 0x13\n",
        "# gamma = 0x257\n",
        "\n",
        "keybit = QuantumRegister(keybits, 'keybit')\n",
        "ptbit = QuantumRegister(ptbits, 'ptbit')\n",
        "y = QuantumRegister(192, 'y')\n",
        "temp = QuantumRegister(192, 'temp')  # used in MC, to compose temp of MC\n",
        "new_array = QuantumRegister(192, 'new_array_SC')\n",
        "teleport = QuantumRegister(1, 'teleport') # to copy qubits --> at index 960\n",
        "ancilla_qubit = QuantumRegister(1, 'ancilla qubit') # for the oracle operation\n",
        "cbits = ClassicalRegister(2, 'teleport_c')\n",
        "\n",
        "grover_circuit = QuantumCircuit(keybit, ptbit, y, temp, new_array, teleport, ancilla_qubit, cbits)\n",
        "\n",
        "initialize_s(grover_circuit, keybits)  # applying Hadamard on 192 keybits-qubits\n",
        "# When run on actual hardware(when enough resources are available), use --\n",
        "# for _ in range((np.pi/4)*2**(keybits/2)):\n",
        "#   oracle(grover_circuit)\n",
        "#   diffuser(grover_circuit, keybits)\n",
        "\n",
        "oracle(grover_circuit)\n",
        "diffuser(grover_circuit, keybits)\n",
        "\n",
        "grover_circuit.measure_all()\n",
        "# grover_circuit.decompose().draw()"
      ]
    },
    {
      "cell_type": "markdown",
      "metadata": {
        "id": "Z9-34D8QCXkg"
      },
      "source": [
        "### Checking which simulator the program is using."
      ]
    },
    {
      "cell_type": "code",
      "execution_count": null,
      "metadata": {
        "id": "jQEMzh4p_0sh"
      },
      "outputs": [],
      "source": [
        "# !pip install qiskit-ibmq-provider"
      ]
    },
    {
      "cell_type": "code",
      "execution_count": null,
      "metadata": {
        "id": "laVE6m2u_K1Z"
      },
      "outputs": [],
      "source": [
        "# from qiskit import IBMQ\n",
        "# from qiskit import Aer, transpile\n",
        "# from qiskit_aer import AerSimulator\n",
        "# extended_stabilizer_simulator = AerSimulator(method='stabilizer')\n",
        "# IBMQ.load_account()\n",
        "# provider = IBMQ.get_provider()\n",
        "# provider.get_backend(extended_stabilizer_simulator)\n",
        "\n",
        "# --> currently not working on my system"
      ]
    },
    {
      "cell_type": "markdown",
      "metadata": {
        "id": "bGJwADRX-tf9"
      },
      "source": [
        "### Running on IBM Simulator"
      ]
    },
    {
      "cell_type": "code",
      "execution_count": 24,
      "metadata": {
        "id": "kbGqxTiTDDSz"
      },
      "outputs": [],
      "source": [
        "from qiskit import Aer, transpile, execute\n",
        "from qiskit_aer import AerSimulator\n",
        "\n",
        "# Create extended stabilizer method simulator\n",
        "# extended_stabilizer_simulator = AerSimulator(method='extended_stabilizer')\n",
        "# --> TranspilerError: 'Number of qubits (962) in circuit-563 is greater than maximum (63) in the coupling_map'\n",
        "stabilizer_simulator = AerSimulator(method='stabilizer')"
      ]
    },
    {
      "cell_type": "markdown",
      "metadata": {
        "id": "TYDZE34ADbCA"
      },
      "source": [
        "> Program crashed due to full use of memory!"
      ]
    },
    {
      "cell_type": "code",
      "execution_count": null,
      "metadata": {
        "id": "42PXH3OcDdpQ"
      },
      "outputs": [],
      "source": [
        "# # Transpile circuit for backend\n",
        "# tcirc = transpile(grover_circuit, stabilizer_simulator)\n",
        "\n",
        "# result = stabilizer_simulator.run(tcirc, shots=1).result()\n",
        "# print('This succeeded?: {}'.format(result.success))\n",
        "# print('1 shot in {}s'.format(result.time_taken))\n",
        "\n",
        "# # Extract the counts of different measurement outcomes\n",
        "# counts = result.get_counts(0)\n",
        "\n",
        "# # Plot a histogram to visualize the measurement outcomes\n",
        "# plot_histogram(counts)"
      ]
    },
    {
      "cell_type": "markdown",
      "metadata": {
        "id": "A2re3j1px-cU"
      },
      "source": [
        "## Evaluation"
      ]
    },
    {
      "cell_type": "code",
      "execution_count": null,
      "metadata": {
        "id": "pbLZUhSMx9hk"
      },
      "outputs": [],
      "source": [
        "# Execute circuit\n",
        "job = execute(grover_circuit, stabilizer_simulator)\n",
        "result = job.result()\n",
        "\n",
        "# Get counts\n",
        "counts = result.get_counts()\n",
        "\n",
        "# Estimate number of CNOTs\n",
        "num_cnots = grover_circuit.count_ops()['cx']\n",
        "\n",
        "# Estimate T-depth\n",
        "depth = grover_circuit.depth()\n",
        "depth_per_round = depth / num_rounds\n",
        "t_depth = depth_per_round * 1 # 1 == rounds in grover algorithm\n",
        "\n",
        "# Estimate T count\n",
        "t_count = stabilizer_simulator.configuration().basis_gates['t'].coupling_map.size()\n",
        "\n",
        "# Calculate cost\n",
        "cost = (num_cnots + t_count) * t_depth\n",
        "print(cost)"
      ]
    },
    {
      "cell_type": "code",
      "execution_count": null,
      "metadata": {
        "id": "Lv0ESf4yx9bS"
      },
      "outputs": [],
      "source": []
    }
  ],
  "metadata": {
    "accelerator": "GPU",
    "colab": {
      "gpuType": "T4",
      "provenance": []
    },
    "kernelspec": {
      "display_name": "Python 3",
      "name": "python3"
    },
    "language_info": {
      "name": "python"
    }
  },
  "nbformat": 4,
  "nbformat_minor": 0
}
